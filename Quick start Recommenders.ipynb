{
  "nbformat": 4,
  "nbformat_minor": 0,
  "metadata": {
    "colab": {
      "provenance": [],
      "collapsed_sections": []
    },
    "kernelspec": {
      "name": "python3",
      "display_name": "Python 3"
    },
    "language_info": {
      "name": "python"
    }
  },
  "cells": [
    {
      "cell_type": "code",
      "source": [
        "! pip install tensorflow_recommenders"
      ],
      "metadata": {
        "id": "DxCZDJ2kON8w"
      },
      "execution_count": null,
      "outputs": []
    },
    {
      "cell_type": "code",
      "execution_count": 2,
      "metadata": {
        "id": "3s15FluFzD9y"
      },
      "outputs": [],
      "source": [
        "import tensorflow as tf\n",
        "import tensorflow_datasets as tfds\n",
        "import tensorflow_recommenders as tfr"
      ]
    },
    {
      "cell_type": "code",
      "source": [
        "ratings = tfds.load(\"movielens/100k-ratings\",split=\"train\")\n",
        "movies = tfds.load(\"movielens/100k-movies\",split=\"train\")"
      ],
      "metadata": {
        "id": "CTC62zQgz-uh"
      },
      "execution_count": null,
      "outputs": []
    },
    {
      "cell_type": "code",
      "source": [
        "## taking 2 features id and movie title from ratings\n",
        "\n",
        "ratings = ratings.map(lambda x:{\n",
        "    \"movie_title\":x[\"movie_title\"],\n",
        "    \"user_id\":x[\"user_id\"]\n",
        "})\n",
        "movies = movies.map(lambda x:x[\"movie_title\"])"
      ],
      "metadata": {
        "id": "sxixD1hl1E9B"
      },
      "execution_count": 4,
      "outputs": []
    },
    {
      "cell_type": "code",
      "source": [
        "# building vocabularies to convert data into integer indicies for embedding\n",
        "\n",
        "user_ids_vocabulary= tf.keras.layers.StringLookup()\n",
        "user_ids_vocabulary.adapt(ratings.map(lambda x: x[\"user_id\"]))\n",
        "movie_titles_vocabulary = tf.keras.layers.StringLookup()\n",
        "movie_titles_vocabulary.adapt(movies)"
      ],
      "metadata": {
        "id": "6McuP_hNrJio"
      },
      "execution_count": 5,
      "outputs": []
    },
    {
      "cell_type": "code",
      "source": [
        "class TwoTowerMovielensModel(tfr.Model):\n",
        "  ### prediction model\n",
        "  def __init__(self, user_model: tf.keras.Model,movie_model: tf.keras.Model,task:tfr.tasks.Retrieval):\n",
        "    super().__init__()\n",
        "  \n",
        "   # setting up movie and user model\n",
        "    self.user_model = user_model\n",
        "    self.movie_model = movie_model\n",
        "     \n",
        "    ## determining which task the model is going to perform..retrieval,ranking or post ranking\n",
        "    self.task = task\n",
        "\n",
        "  def compute_loss(self,features,training = False) -> tf.Tensor:\n",
        "    user_embeddings = self.user_model(features['user_id'])\n",
        "    movies_embeddings = self.movie_model(features[\"movie_title\"])\n",
        "    return self.task(user_embeddings,movies_embeddings)\n"
      ],
      "metadata": {
        "id": "TPFGbKDh16bx"
      },
      "execution_count": 9,
      "outputs": []
    },
    {
      "cell_type": "code",
      "source": [
        "user_model = tf.keras.Sequential([\n",
        "    user_ids_vocabulary,\n",
        "    tf.keras.layers.Embedding(user_ids_vocabulary.vocab_size(),64)\n",
        "])\n",
        "movies_model = tf.keras.Sequential([\n",
        "    movie_titles_vocabulary,\n",
        "    tf.keras.layers.Embedding(movie_titles_vocabulary.vocab_size(),64)\n",
        "])\n",
        "task = tfr.tasks.Retrieval(metrics=tfr.metrics.FactorizedTopK(movies.batch(128).map(movies_model)))"
      ],
      "metadata": {
        "colab": {
          "base_uri": "https://localhost:8080/"
        },
        "id": "T05a4FjGvD3D",
        "outputId": "d44fe354-bb03-43ef-9501-8faa75a845fd"
      },
      "execution_count": 11,
      "outputs": [
        {
          "output_type": "stream",
          "name": "stderr",
          "text": [
            "WARNING:tensorflow:vocab_size is deprecated, please use vocabulary_size.\n",
            "WARNING:tensorflow:vocab_size is deprecated, please use vocabulary_size.\n"
          ]
        }
      ]
    },
    {
      "cell_type": "code",
      "source": [
        "model = TwoTowerMovielensModel(user_model,movies_model,task)\n",
        "model.compile(optimizer = tf.keras.optimizers.Adagrad(0.5))"
      ],
      "metadata": {
        "id": "ab5xTHCe8ZHk"
      },
      "execution_count": 12,
      "outputs": []
    },
    {
      "cell_type": "code",
      "source": [
        "model.fit(ratings.batch(4096),epochs=10)"
      ],
      "metadata": {
        "colab": {
          "base_uri": "https://localhost:8080/"
        },
        "id": "o0Maf1vb361q",
        "outputId": "03be0b00-a98a-4a3c-b4c2-de3df843958f"
      },
      "execution_count": 14,
      "outputs": [
        {
          "output_type": "stream",
          "name": "stdout",
          "text": [
            "Epoch 1/10\n",
            "25/25 [==============================] - 31s 1s/step - factorized_top_k/top_1_categorical_accuracy: 8.0000e-04 - factorized_top_k/top_5_categorical_accuracy: 0.0108 - factorized_top_k/top_10_categorical_accuracy: 0.0287 - factorized_top_k/top_50_categorical_accuracy: 0.1773 - factorized_top_k/top_100_categorical_accuracy: 0.3138 - loss: 30075.3933 - regularization_loss: 0.0000e+00 - total_loss: 30075.3933\n",
            "Epoch 2/10\n",
            "25/25 [==============================] - 30s 1s/step - factorized_top_k/top_1_categorical_accuracy: 7.0000e-04 - factorized_top_k/top_5_categorical_accuracy: 0.0117 - factorized_top_k/top_10_categorical_accuracy: 0.0319 - factorized_top_k/top_50_categorical_accuracy: 0.1996 - factorized_top_k/top_100_categorical_accuracy: 0.3449 - loss: 29820.5883 - regularization_loss: 0.0000e+00 - total_loss: 29820.5883\n",
            "Epoch 3/10\n",
            "25/25 [==============================] - 30s 1s/step - factorized_top_k/top_1_categorical_accuracy: 9.1000e-04 - factorized_top_k/top_5_categorical_accuracy: 0.0123 - factorized_top_k/top_10_categorical_accuracy: 0.0338 - factorized_top_k/top_50_categorical_accuracy: 0.2149 - factorized_top_k/top_100_categorical_accuracy: 0.3685 - loss: 29619.9887 - regularization_loss: 0.0000e+00 - total_loss: 29619.9887\n",
            "Epoch 4/10\n",
            "25/25 [==============================] - 31s 1s/step - factorized_top_k/top_1_categorical_accuracy: 7.9000e-04 - factorized_top_k/top_5_categorical_accuracy: 0.0130 - factorized_top_k/top_10_categorical_accuracy: 0.0351 - factorized_top_k/top_50_categorical_accuracy: 0.2278 - factorized_top_k/top_100_categorical_accuracy: 0.3872 - loss: 29458.6052 - regularization_loss: 0.0000e+00 - total_loss: 29458.6052\n",
            "Epoch 5/10\n",
            "25/25 [==============================] - 30s 1s/step - factorized_top_k/top_1_categorical_accuracy: 8.1000e-04 - factorized_top_k/top_5_categorical_accuracy: 0.0134 - factorized_top_k/top_10_categorical_accuracy: 0.0363 - factorized_top_k/top_50_categorical_accuracy: 0.2372 - factorized_top_k/top_100_categorical_accuracy: 0.4014 - loss: 29321.6992 - regularization_loss: 0.0000e+00 - total_loss: 29321.6992\n",
            "Epoch 6/10\n",
            "25/25 [==============================] - 30s 1s/step - factorized_top_k/top_1_categorical_accuracy: 8.2000e-04 - factorized_top_k/top_5_categorical_accuracy: 0.0136 - factorized_top_k/top_10_categorical_accuracy: 0.0372 - factorized_top_k/top_50_categorical_accuracy: 0.2456 - factorized_top_k/top_100_categorical_accuracy: 0.4136 - loss: 29207.1040 - regularization_loss: 0.0000e+00 - total_loss: 29207.1040\n",
            "Epoch 7/10\n",
            "25/25 [==============================] - 30s 1s/step - factorized_top_k/top_1_categorical_accuracy: 8.0000e-04 - factorized_top_k/top_5_categorical_accuracy: 0.0137 - factorized_top_k/top_10_categorical_accuracy: 0.0382 - factorized_top_k/top_50_categorical_accuracy: 0.2522 - factorized_top_k/top_100_categorical_accuracy: 0.4236 - loss: 29106.8176 - regularization_loss: 0.0000e+00 - total_loss: 29106.8176\n",
            "Epoch 8/10\n",
            "25/25 [==============================] - 32s 1s/step - factorized_top_k/top_1_categorical_accuracy: 9.0000e-04 - factorized_top_k/top_5_categorical_accuracy: 0.0142 - factorized_top_k/top_10_categorical_accuracy: 0.0386 - factorized_top_k/top_50_categorical_accuracy: 0.2583 - factorized_top_k/top_100_categorical_accuracy: 0.4322 - loss: 29020.7009 - regularization_loss: 0.0000e+00 - total_loss: 29020.7009\n",
            "Epoch 9/10\n",
            "25/25 [==============================] - 30s 1s/step - factorized_top_k/top_1_categorical_accuracy: 9.1000e-04 - factorized_top_k/top_5_categorical_accuracy: 0.0146 - factorized_top_k/top_10_categorical_accuracy: 0.0392 - factorized_top_k/top_50_categorical_accuracy: 0.2639 - factorized_top_k/top_100_categorical_accuracy: 0.4401 - loss: 28942.3448 - regularization_loss: 0.0000e+00 - total_loss: 28942.3448\n",
            "Epoch 10/10\n",
            "25/25 [==============================] - 30s 1s/step - factorized_top_k/top_1_categorical_accuracy: 9.2000e-04 - factorized_top_k/top_5_categorical_accuracy: 0.0146 - factorized_top_k/top_10_categorical_accuracy: 0.0398 - factorized_top_k/top_50_categorical_accuracy: 0.2685 - factorized_top_k/top_100_categorical_accuracy: 0.4470 - loss: 28873.7821 - regularization_loss: 0.0000e+00 - total_loss: 28873.7821\n"
          ]
        },
        {
          "output_type": "execute_result",
          "data": {
            "text/plain": [
              "<keras.callbacks.History at 0x7fcf585c9e10>"
            ]
          },
          "metadata": {},
          "execution_count": 14
        }
      ]
    },
    {
      "cell_type": "code",
      "source": [
        "### predictions using brute force to search to set up retrival using the trained representation"
      ],
      "metadata": {
        "id": "J8oXAf4-N-VC"
      },
      "execution_count": 15,
      "outputs": []
    },
    {
      "cell_type": "code",
      "source": [
        "index =tfr.layers.factorized_top_k.BruteForce(model.user_model)\n",
        "index.index_from_dataset(movies.batch(100).map(lambda title:(title, model.movie_model(title))))"
      ],
      "metadata": {
        "colab": {
          "base_uri": "https://localhost:8080/"
        },
        "id": "qEkR1qpXzaSR",
        "outputId": "729b22f3-f76a-466b-9223-d95a9e0f500f"
      },
      "execution_count": 16,
      "outputs": [
        {
          "output_type": "execute_result",
          "data": {
            "text/plain": [
              "<tensorflow_recommenders.layers.factorized_top_k.BruteForce at 0x7fcf585bda90>"
            ]
          },
          "metadata": {},
          "execution_count": 16
        }
      ]
    },
    {
      "cell_type": "code",
      "source": [
        "import numpy as np"
      ],
      "metadata": {
        "id": "L9ZZ8P880oGS"
      },
      "execution_count": 18,
      "outputs": []
    },
    {
      "cell_type": "code",
      "source": [
        "_, titles = index(np.array(['42']))\n",
        "print(f'top 3 recommendations for user 42:{titles[0,:3]}')"
      ],
      "metadata": {
        "colab": {
          "base_uri": "https://localhost:8080/"
        },
        "id": "agoDTVhZ0JTc",
        "outputId": "5bd58ff4-1e90-4a6e-e5e1-33d27a70020b"
      },
      "execution_count": 19,
      "outputs": [
        {
          "output_type": "stream",
          "name": "stdout",
          "text": [
            "top 3 recommendations for user 42:[b'Rent-a-Kid (1995)' b'House Arrest (1996)' b'Just Cause (1995)']\n"
          ]
        }
      ]
    },
    {
      "cell_type": "code",
      "source": [],
      "metadata": {
        "id": "08y7b4ex0qN6"
      },
      "execution_count": null,
      "outputs": []
    }
  ]
}