{
  "nbformat": 4,
  "nbformat_minor": 0,
  "metadata": {
    "colab": {
      "provenance": []
    },
    "kernelspec": {
      "name": "python3",
      "display_name": "Python 3"
    },
    "language_info": {
      "name": "python"
    }
  },
  "cells": [
    {
      "cell_type": "code",
      "source": [
        "! pip install tensorflow_recommenders"
      ],
      "metadata": {
        "id": "DxCZDJ2kON8w"
      },
      "execution_count": null,
      "outputs": []
    },
    {
      "cell_type": "code",
      "execution_count": 2,
      "metadata": {
        "id": "3s15FluFzD9y"
      },
      "outputs": [],
      "source": [
        "import tensorflow as tf\n",
        "import tensorflow_datasets as tfds\n",
        "import tensorflow_recommenders as tfr\n",
        "import pprint\n",
        "import numpy as np"
      ]
    },
    {
      "cell_type": "code",
      "source": [
        "ratings = tfds.load(\"movielens/100k-ratings\",split=\"train\")\n",
        "movies = tfds.load(\"movielens/100k-movies\",split=\"train\")"
      ],
      "metadata": {
        "id": "CTC62zQgz-uh"
      },
      "execution_count": null,
      "outputs": []
    },
    {
      "cell_type": "code",
      "source": [
        "ratings"
      ],
      "metadata": {
        "colab": {
          "base_uri": "https://localhost:8080/"
        },
        "id": "4H-mEY-4YkAm",
        "outputId": "45237cb9-3645-4695-8be9-bbe1c2c9620b"
      },
      "execution_count": 4,
      "outputs": [
        {
          "output_type": "execute_result",
          "data": {
            "text/plain": [
              "<PrefetchDataset element_spec={'bucketized_user_age': TensorSpec(shape=(), dtype=tf.float32, name=None), 'movie_genres': TensorSpec(shape=(None,), dtype=tf.int64, name=None), 'movie_id': TensorSpec(shape=(), dtype=tf.string, name=None), 'movie_title': TensorSpec(shape=(), dtype=tf.string, name=None), 'raw_user_age': TensorSpec(shape=(), dtype=tf.float32, name=None), 'timestamp': TensorSpec(shape=(), dtype=tf.int64, name=None), 'user_gender': TensorSpec(shape=(), dtype=tf.bool, name=None), 'user_id': TensorSpec(shape=(), dtype=tf.string, name=None), 'user_occupation_label': TensorSpec(shape=(), dtype=tf.int64, name=None), 'user_occupation_text': TensorSpec(shape=(), dtype=tf.string, name=None), 'user_rating': TensorSpec(shape=(), dtype=tf.float32, name=None), 'user_zip_code': TensorSpec(shape=(), dtype=tf.string, name=None)}>"
            ]
          },
          "metadata": {},
          "execution_count": 4
        }
      ]
    },
    {
      "cell_type": "code",
      "source": [
        "for x in ratings.take(2).as_numpy_iterator():\n",
        "  pprint.pprint(x)"
      ],
      "metadata": {
        "colab": {
          "base_uri": "https://localhost:8080/"
        },
        "id": "bnjM_3JDGHt1",
        "outputId": "1ea36421-216c-48ee-a15e-f25af1827e55"
      },
      "execution_count": 5,
      "outputs": [
        {
          "output_type": "stream",
          "name": "stdout",
          "text": [
            "{'bucketized_user_age': 45.0,\n",
            " 'movie_genres': array([7]),\n",
            " 'movie_id': b'357',\n",
            " 'movie_title': b\"One Flew Over the Cuckoo's Nest (1975)\",\n",
            " 'raw_user_age': 46.0,\n",
            " 'timestamp': 879024327,\n",
            " 'user_gender': True,\n",
            " 'user_id': b'138',\n",
            " 'user_occupation_label': 4,\n",
            " 'user_occupation_text': b'doctor',\n",
            " 'user_rating': 4.0,\n",
            " 'user_zip_code': b'53211'}\n",
            "{'bucketized_user_age': 25.0,\n",
            " 'movie_genres': array([ 4, 14]),\n",
            " 'movie_id': b'709',\n",
            " 'movie_title': b'Strictly Ballroom (1992)',\n",
            " 'raw_user_age': 32.0,\n",
            " 'timestamp': 875654590,\n",
            " 'user_gender': True,\n",
            " 'user_id': b'92',\n",
            " 'user_occupation_label': 5,\n",
            " 'user_occupation_text': b'entertainment',\n",
            " 'user_rating': 2.0,\n",
            " 'user_zip_code': b'80525'}\n"
          ]
        }
      ]
    },
    {
      "cell_type": "code",
      "source": [
        "for x in movies.take(3).as_numpy_iterator():\n",
        "  pprint.pprint(x)"
      ],
      "metadata": {
        "colab": {
          "base_uri": "https://localhost:8080/"
        },
        "id": "cxEMIFd_J1cH",
        "outputId": "e8bfb8d4-909d-41b7-abe2-3f705a2c05fb"
      },
      "execution_count": 6,
      "outputs": [
        {
          "output_type": "stream",
          "name": "stdout",
          "text": [
            "{'movie_genres': array([4]),\n",
            " 'movie_id': b'1681',\n",
            " 'movie_title': b'You So Crazy (1994)'}\n",
            "{'movie_genres': array([4, 7]),\n",
            " 'movie_id': b'1457',\n",
            " 'movie_title': b'Love Is All There Is (1996)'}\n",
            "{'movie_genres': array([1, 3]),\n",
            " 'movie_id': b'500',\n",
            " 'movie_title': b'Fly Away Home (1996)'}\n"
          ]
        }
      ]
    },
    {
      "cell_type": "code",
      "source": [
        "## taking 2 features id and movie title from ratings\n",
        "\n",
        "ratings = ratings.map(lambda x:{\n",
        "    \"movie_title\":x[\"movie_title\"],\n",
        "    \"user_id\":x[\"user_id\"],\n",
        "    \"timestamp\":x['timestamp']\n",
        "   \n",
        "})\n",
        "movies = movies.map(lambda x:x[\"movie_title\"])\n",
        "                              "
      ],
      "metadata": {
        "id": "sxixD1hl1E9B"
      },
      "execution_count": 7,
      "outputs": []
    },
    {
      "cell_type": "code",
      "source": [
        "for x in ratings.take(5).as_numpy_iterator():\n",
        "  pprint.pprint(x)"
      ],
      "metadata": {
        "colab": {
          "base_uri": "https://localhost:8080/"
        },
        "id": "eGPl5bXYGGKy",
        "outputId": "ffc5933c-f4d6-4f88-d1e0-5bffd8bc9142"
      },
      "execution_count": 8,
      "outputs": [
        {
          "output_type": "stream",
          "name": "stdout",
          "text": [
            "{'movie_title': b\"One Flew Over the Cuckoo's Nest (1975)\",\n",
            " 'timestamp': 879024327,\n",
            " 'user_id': b'138'}\n",
            "{'movie_title': b'Strictly Ballroom (1992)',\n",
            " 'timestamp': 875654590,\n",
            " 'user_id': b'92'}\n",
            "{'movie_title': b'Very Brady Sequel, A (1996)',\n",
            " 'timestamp': 882075110,\n",
            " 'user_id': b'301'}\n",
            "{'movie_title': b'Pulp Fiction (1994)',\n",
            " 'timestamp': 883326919,\n",
            " 'user_id': b'60'}\n",
            "{'movie_title': b'Scream 2 (1997)', 'timestamp': 891409199, 'user_id': b'197'}\n"
          ]
        }
      ]
    },
    {
      "cell_type": "code",
      "execution_count": null,
      "metadata": {
        "id": "46L0hdeikfi9"
      },
      "outputs": [],
      "source": [
        "### embeddings for the categoricl features and continous data is normalized"
      ]
    },
    {
      "cell_type": "code",
      "source": [
        "### starting with a rating model feature processing\n",
        "# ratings contains\n",
        "#user id\n",
        "#movie title\n",
        "# time stamp\n",
        "\n",
        "\n",
        "# dealing with user id we use stringLookup\n",
        "\n",
        "user_id_vocabuary = tf.keras.layers.StringLookup()\n",
        "user_id_vocabuary.adapt(ratings.map(lambda x:x['user_id']).batch(100))"
      ],
      "metadata": {
        "id": "b5dxeGF_ogDT"
      },
      "execution_count": 13,
      "outputs": []
    },
    {
      "cell_type": "code",
      "source": [
        "## movie title there are two ways to deal with it\n",
        "# first as whole or as individual values\n",
        "# as whole use \n",
        "movie_title_vocabulary = tf.keras.layers.StringLookup()\n",
        "movie_title_vocabulary.adapt(ratings.map(lambda x:x['movie_title']).batch(100))"
      ],
      "metadata": {
        "id": "--Fnup4NpLsO"
      },
      "execution_count": 14,
      "outputs": []
    },
    {
      "cell_type": "code",
      "source": [
        "## as text\n",
        "movie_title_text_vector = tf.keras.layers.TextVectorization()\n",
        "movie_title_text_vector.adapt(ratings.map(lambda x:x['movie_title']).batch(100))"
      ],
      "metadata": {
        "id": "Qy5X5XpxqrV7"
      },
      "execution_count": 16,
      "outputs": []
    },
    {
      "cell_type": "code",
      "source": [
        "# timestamp can be discretized or normalized as continous feature\n",
        "# discretization\n",
        "timestamps = np.concatenate(list(ratings.map(lambda x:x['timestamp']).batch(100)))"
      ],
      "metadata": {
        "id": "_fAGeliKrAdB"
      },
      "execution_count": 17,
      "outputs": []
    },
    {
      "cell_type": "code",
      "source": [
        "min_time = timestamps.min()\n",
        "max_time = timestamps.max()\n",
        "timestamps_bucket = np.linspace(min_time,max_time,num=1000)\n",
        "discrete_timestamp = tf.keras.layers.Discretization(timestamps_bucket.tolist())"
      ],
      "metadata": {
        "id": "j8bxpsOLr-gw"
      },
      "execution_count": 25,
      "outputs": []
    },
    {
      "cell_type": "code",
      "source": [
        "discrete_timestamp (timestamps)"
      ],
      "metadata": {
        "colab": {
          "base_uri": "https://localhost:8080/"
        },
        "id": "THXzIOwmsIrS",
        "outputId": "204de591-fbb0-48d6-a375-a9a1d982a566"
      },
      "execution_count": 26,
      "outputs": [
        {
          "output_type": "execute_result",
          "data": {
            "text/plain": [
              "<tf.Tensor: shape=(100000,), dtype=int64, numpy=array([232,  51, 396, ..., 273, 975,   4])>"
            ]
          },
          "metadata": {},
          "execution_count": 26
        }
      ]
    },
    {
      "cell_type": "code",
      "source": [
        "### Normalization of  timestamps\n",
        "normalize_timestamps = tf.keras.layers.Normalization(axis=None)\n",
        "normalize_timestamps.adapt(np.array(timestamps,dtype='float32'))\n"
      ],
      "metadata": {
        "id": "IfwbMtzSs8sO"
      },
      "execution_count": 69,
      "outputs": []
    },
    {
      "cell_type": "code",
      "source": [
        "value"
      ],
      "metadata": {
        "id": "XXjJ_8CMDRhy"
      },
      "execution_count": 63,
      "outputs": []
    },
    {
      "cell_type": "code",
      "source": [
        "timestamps"
      ],
      "metadata": {
        "colab": {
          "base_uri": "https://localhost:8080/"
        },
        "id": "m2Ze8k4TCwiL",
        "outputId": "cd6e30cf-c3f9-477b-f1da-ad8d9b45b2c8"
      },
      "execution_count": 59,
      "outputs": [
        {
          "output_type": "execute_result",
          "data": {
            "text/plain": [
              "array([879024327, 875654590, 882075110, ..., 879795430, 892839492,\n",
              "       874791894])"
            ]
          },
          "metadata": {},
          "execution_count": 59
        }
      ]
    },
    {
      "cell_type": "code",
      "source": [
        "ratings.map(lambda x:x['user_id']).batch(100)"
      ],
      "metadata": {
        "colab": {
          "base_uri": "https://localhost:8080/"
        },
        "id": "gmMj-8L78Go-",
        "outputId": "6a179bf1-5ba4-405f-9edf-be2644f1959c"
      },
      "execution_count": 33,
      "outputs": [
        {
          "output_type": "execute_result",
          "data": {
            "text/plain": [
              "<BatchDataset element_spec=TensorSpec(shape=(None,), dtype=tf.string, name=None)>"
            ]
          },
          "metadata": {},
          "execution_count": 33
        }
      ]
    },
    {
      "cell_type": "code",
      "source": [
        "## convert to embeddings\n",
        "user_id_embeddings_layer = tf.keras.layers.Embedding(user_id_vocabuary.vocab_size(),32)\n",
        "lookup = user_id_vocabuary(np.concatenate(list(ratings.map(lambda x:x['user_id']).batch(100))))\n",
        "user_id_embeddings = user_id_embeddings_layer(lookup)\n",
        "user_id_embeddings"
      ],
      "metadata": {
        "colab": {
          "base_uri": "https://localhost:8080/"
        },
        "id": "7cjVk7b1ttD4",
        "outputId": "3e05110f-c14f-4170-f450-73021517a528"
      },
      "execution_count": 36,
      "outputs": [
        {
          "output_type": "stream",
          "name": "stderr",
          "text": [
            "WARNING:tensorflow:vocab_size is deprecated, please use vocabulary_size.\n"
          ]
        },
        {
          "output_type": "execute_result",
          "data": {
            "text/plain": [
              "<tf.Tensor: shape=(100000, 32), dtype=float32, numpy=\n",
              "array([[-0.04741148,  0.02330904,  0.03542682, ..., -0.02041677,\n",
              "         0.00529487, -0.02664511],\n",
              "       [ 0.03803145,  0.02068267, -0.02545168, ...,  0.00787871,\n",
              "        -0.00931245,  0.00760555],\n",
              "       [-0.01932745, -0.03018264, -0.03894828, ...,  0.0285219 ,\n",
              "        -0.0217639 ,  0.00942328],\n",
              "       ...,\n",
              "       [ 0.00747423,  0.01938125,  0.02604466, ...,  0.01582741,\n",
              "         0.03754489, -0.01717795],\n",
              "       [-0.01697094, -0.0251235 , -0.00992846, ...,  0.00490737,\n",
              "        -0.04428206, -0.02114056],\n",
              "       [ 0.0117141 ,  0.02431152,  0.02682875, ...,  0.01206579,\n",
              "        -0.03181015,  0.04185197]], dtype=float32)>"
            ]
          },
          "metadata": {},
          "execution_count": 36
        }
      ]
    },
    {
      "cell_type": "code",
      "source": [
        "# Movie title as stringlookup\n",
        "movie_title_embeddings_layer = tf.keras.layers.Embedding(movie_title_vocabulary.vocab_size(),32)\n",
        "lookup = movie_title_vocabulary(np.concatenate(list(ratings.map(lambda x:x['movie_title']).batch(100))))\n",
        "movie_title_embeddings = movie_title_embeddings_layer (lookup)\n",
        "movie_title_embeddings"
      ],
      "metadata": {
        "colab": {
          "base_uri": "https://localhost:8080/"
        },
        "id": "4c8N-d0s7K_U",
        "outputId": "bc6c9722-0fb2-460f-f81b-7f195e55321c"
      },
      "execution_count": 39,
      "outputs": [
        {
          "output_type": "stream",
          "name": "stderr",
          "text": [
            "WARNING:tensorflow:vocab_size is deprecated, please use vocabulary_size.\n"
          ]
        },
        {
          "output_type": "execute_result",
          "data": {
            "text/plain": [
              "<tf.Tensor: shape=(100000, 32), dtype=float32, numpy=\n",
              "array([[-0.01630978, -0.02569931,  0.03665093, ..., -0.03104436,\n",
              "        -0.03821566, -0.02537227],\n",
              "       [ 0.03667306, -0.00716151,  0.04938321, ...,  0.02294308,\n",
              "         0.04402134, -0.03611802],\n",
              "       [-0.00269121,  0.02585173, -0.0040849 , ...,  0.00499278,\n",
              "         0.02188036, -0.03835566],\n",
              "       ...,\n",
              "       [-0.04608719, -0.01552929, -0.01678654, ...,  0.00850805,\n",
              "        -0.01397078,  0.03189094],\n",
              "       [ 0.04676677,  0.04201912, -0.02155346, ..., -0.03681235,\n",
              "        -0.03263997,  0.01325144],\n",
              "       [ 0.02812256,  0.03993626, -0.01516765, ...,  0.0149873 ,\n",
              "         0.0392216 , -0.04773338]], dtype=float32)>"
            ]
          },
          "metadata": {},
          "execution_count": 39
        }
      ]
    },
    {
      "cell_type": "code",
      "source": [
        "## Movie Title as textvectorization\n",
        "movie_title_text_embedding_layer = tf.keras.layers.Embedding(movie_title_text_vector.vocabulary_size(),32)\n",
        "lookup = movie_title_text_vector(np.concatenate(list(ratings.map(lambda x:x['movie_title']).batch(100))))\n",
        "movie_title_text_embeddings =movie_title_text_embedding_layer (lookup)\n",
        "averageMovietitle_embeddings=tf.keras.layers.GlobalAveragePooling1D()(movie_title_text_embeddings)\n",
        "averageMovietitle_embeddings"
      ],
      "metadata": {
        "colab": {
          "base_uri": "https://localhost:8080/"
        },
        "id": "rOzp6ypb80gq",
        "outputId": "d9e8700e-4812-45e3-a263-efe58384b98d"
      },
      "execution_count": 45,
      "outputs": [
        {
          "output_type": "execute_result",
          "data": {
            "text/plain": [
              "<tf.Tensor: shape=(100000, 32), dtype=float32, numpy=\n",
              "array([[-0.0271943 , -0.01294007, -0.02463014, ...,  0.03660198,\n",
              "         0.01925104, -0.01043711],\n",
              "       [-0.03194948, -0.01799601, -0.02133049, ...,  0.03864413,\n",
              "         0.03078798, -0.00572893],\n",
              "       [-0.02928905, -0.01709648, -0.01279188, ...,  0.02684232,\n",
              "         0.0194418 , -0.0043711 ],\n",
              "       ...,\n",
              "       [-0.02833093, -0.01832613, -0.02111807, ...,  0.03139702,\n",
              "         0.02557224,  0.00266598],\n",
              "       [-0.03918093, -0.02035939, -0.02216072, ...,  0.04086189,\n",
              "         0.02871422, -0.00659649],\n",
              "       [-0.03090936, -0.0152417 , -0.018055  , ...,  0.03150586,\n",
              "         0.01717355, -0.000103  ]], dtype=float32)>"
            ]
          },
          "metadata": {},
          "execution_count": 45
        }
      ]
    },
    {
      "cell_type": "code",
      "source": [
        "### time stamp discretized form\n",
        "timestamps_embedding_layer = tf.keras.layers.Embedding(len(timestamps_bucket)+1,32)\n",
        "lookup =discrete_timestamp(np.concatenate(list(ratings.map(lambda x:x['timestamp']).batch(100))))\n",
        "timestamps_embeddings = timestamps_embedding_layer(lookup)\n",
        "timestamps_embeddings"
      ],
      "metadata": {
        "colab": {
          "base_uri": "https://localhost:8080/"
        },
        "id": "zrUr6Tp29Tub",
        "outputId": "ade9a407-2857-42fa-8930-4bc7ed92b9a3"
      },
      "execution_count": 46,
      "outputs": [
        {
          "output_type": "execute_result",
          "data": {
            "text/plain": [
              "<tf.Tensor: shape=(100000, 32), dtype=float32, numpy=\n",
              "array([[-0.01324006,  0.03092024, -0.00539099, ..., -0.00962311,\n",
              "         0.04171616, -0.01374578],\n",
              "       [-0.04368169,  0.03692111,  0.01683   , ...,  0.01508811,\n",
              "        -0.0214709 ,  0.01247606],\n",
              "       [ 0.04076887, -0.00775604,  0.0480671 , ...,  0.02259675,\n",
              "         0.00748792, -0.02217144],\n",
              "       ...,\n",
              "       [ 0.0049464 , -0.00583805, -0.00048954, ...,  0.03865978,\n",
              "        -0.00950354,  0.02396666],\n",
              "       [ 0.04102074,  0.03638947,  0.0165466 , ...,  0.04592978,\n",
              "        -0.01944245,  0.01336234],\n",
              "       [-0.01417219,  0.00638954,  0.01791376, ...,  0.01943837,\n",
              "        -0.0446508 , -0.04673837]], dtype=float32)>"
            ]
          },
          "metadata": {},
          "execution_count": 46
        }
      ]
    },
    {
      "cell_type": "code",
      "source": [
        "norm_timestamps = normalize_timestamps(np.concatenate(list(ratings.map(lambda x:x['timestamp']).batch(100))))\n",
        "norm_timestamps = tf.reshape(norm_timestamps ,(-1,1))\n",
        "norm_timestamps "
      ],
      "metadata": {
        "colab": {
          "base_uri": "https://localhost:8080/"
        },
        "id": "gMv1ZQE8_tj7",
        "outputId": "fa99691b-a4aa-4ec7-adcc-62d9dbdc5304"
      },
      "execution_count": 72,
      "outputs": [
        {
          "output_type": "execute_result",
          "data": {
            "text/plain": [
              "<tf.Tensor: shape=(100000, 1), dtype=float32, numpy=\n",
              "array([[-0.8428199],\n",
              "       [-1.4734049],\n",
              "       [-0.2719137],\n",
              "       ...,\n",
              "       [-0.6985155],\n",
              "       [ 1.7424442],\n",
              "       [-1.6348476]], dtype=float32)>"
            ]
          },
          "metadata": {},
          "execution_count": 72
        }
      ]
    },
    {
      "cell_type": "code",
      "source": [
        "user_embeddings = tf.concat([user_id_embeddings,movie_title_embeddings,averageMovietitle_embeddings,timestamps_embeddings,norm_timestamps],axis=1)"
      ],
      "metadata": {
        "id": "FVbhNc40_cGJ"
      },
      "execution_count": 73,
      "outputs": []
    },
    {
      "cell_type": "code",
      "source": [
        "user_embeddings"
      ],
      "metadata": {
        "colab": {
          "base_uri": "https://localhost:8080/"
        },
        "id": "EAeCBSiEFGyD",
        "outputId": "6772d8e9-4a1c-465f-e4c9-f492f31b309a"
      },
      "execution_count": 74,
      "outputs": [
        {
          "output_type": "execute_result",
          "data": {
            "text/plain": [
              "<tf.Tensor: shape=(100000, 129), dtype=float32, numpy=\n",
              "array([[-0.04741148,  0.02330904,  0.03542682, ...,  0.04171616,\n",
              "        -0.01374578, -0.8428199 ],\n",
              "       [ 0.03803145,  0.02068267, -0.02545168, ..., -0.0214709 ,\n",
              "         0.01247606, -1.4734049 ],\n",
              "       [-0.01932745, -0.03018264, -0.03894828, ...,  0.00748792,\n",
              "        -0.02217144, -0.2719137 ],\n",
              "       ...,\n",
              "       [ 0.00747423,  0.01938125,  0.02604466, ..., -0.00950354,\n",
              "         0.02396666, -0.6985155 ],\n",
              "       [-0.01697094, -0.0251235 , -0.00992846, ..., -0.01944245,\n",
              "         0.01336234,  1.7424442 ],\n",
              "       [ 0.0117141 ,  0.02431152,  0.02682875, ..., -0.0446508 ,\n",
              "        -0.04673837, -1.6348476 ]], dtype=float32)>"
            ]
          },
          "metadata": {},
          "execution_count": 74
        }
      ]
    },
    {
      "cell_type": "code",
      "source": [],
      "metadata": {
        "id": "vG232ffbFJRS"
      },
      "execution_count": null,
      "outputs": []
    }
  ]
}