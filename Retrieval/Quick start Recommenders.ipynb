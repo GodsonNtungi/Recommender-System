{
  "nbformat": 4,
  "nbformat_minor": 0,
  "metadata": {
    "colab": {
      "provenance": [],
      "collapsed_sections": []
    },
    "kernelspec": {
      "name": "python3",
      "display_name": "Python 3"
    },
    "language_info": {
      "name": "python"
    }
  },
  "cells": [
    {
      "cell_type": "code",
      "source": [
        "! pip install tensorflow_recommenders"
      ],
      "metadata": {
        "id": "DxCZDJ2kON8w"
      },
      "execution_count": null,
      "outputs": []
    },
    {
      "cell_type": "code",
      "execution_count": 2,
      "metadata": {
        "id": "3s15FluFzD9y"
      },
      "outputs": [],
      "source": [
        "import tensorflow as tf\n",
        "import tensorflow_datasets as tfds\n",
        "import tensorflow_recommenders as tfr\n",
        "import pprint"
      ]
    },
    {
      "cell_type": "code",
      "source": [
        "ratings = tfds.load(\"movielens/100k-ratings\",split=\"train\")\n",
        "movies = tfds.load(\"movielens/100k-movies\",split=\"train\")"
      ],
      "metadata": {
        "id": "CTC62zQgz-uh"
      },
      "execution_count": 43,
      "outputs": []
    },
    {
      "cell_type": "code",
      "source": [
        "for x in ratings.take(2).as_numpy_iterator():\n",
        "  pprint.pprint(x)"
      ],
      "metadata": {
        "colab": {
          "base_uri": "https://localhost:8080/"
        },
        "id": "bnjM_3JDGHt1",
        "outputId": "c13441fc-7b5b-4550-dd58-42b40865ee02"
      },
      "execution_count": 44,
      "outputs": [
        {
          "output_type": "stream",
          "name": "stdout",
          "text": [
            "{'bucketized_user_age': 45.0,\n",
            " 'movie_genres': array([7]),\n",
            " 'movie_id': b'357',\n",
            " 'movie_title': b\"One Flew Over the Cuckoo's Nest (1975)\",\n",
            " 'raw_user_age': 46.0,\n",
            " 'timestamp': 879024327,\n",
            " 'user_gender': True,\n",
            " 'user_id': b'138',\n",
            " 'user_occupation_label': 4,\n",
            " 'user_occupation_text': b'doctor',\n",
            " 'user_rating': 4.0,\n",
            " 'user_zip_code': b'53211'}\n",
            "{'bucketized_user_age': 25.0,\n",
            " 'movie_genres': array([ 4, 14]),\n",
            " 'movie_id': b'709',\n",
            " 'movie_title': b'Strictly Ballroom (1992)',\n",
            " 'raw_user_age': 32.0,\n",
            " 'timestamp': 875654590,\n",
            " 'user_gender': True,\n",
            " 'user_id': b'92',\n",
            " 'user_occupation_label': 5,\n",
            " 'user_occupation_text': b'entertainment',\n",
            " 'user_rating': 2.0,\n",
            " 'user_zip_code': b'80525'}\n"
          ]
        }
      ]
    },
    {
      "cell_type": "code",
      "source": [
        "for x in movies.take(3).as_numpy_iterator():\n",
        "  pprint.pprint(x)"
      ],
      "metadata": {
        "colab": {
          "base_uri": "https://localhost:8080/"
        },
        "id": "cxEMIFd_J1cH",
        "outputId": "af5b338c-6d51-40a8-fab5-db1abcccdb39"
      },
      "execution_count": 45,
      "outputs": [
        {
          "output_type": "stream",
          "name": "stdout",
          "text": [
            "{'movie_genres': array([4]),\n",
            " 'movie_id': b'1681',\n",
            " 'movie_title': b'You So Crazy (1994)'}\n",
            "{'movie_genres': array([4, 7]),\n",
            " 'movie_id': b'1457',\n",
            " 'movie_title': b'Love Is All There Is (1996)'}\n",
            "{'movie_genres': array([1, 3]),\n",
            " 'movie_id': b'500',\n",
            " 'movie_title': b'Fly Away Home (1996)'}\n"
          ]
        }
      ]
    },
    {
      "cell_type": "code",
      "source": [
        "## taking 2 features id and movie title from ratings\n",
        "\n",
        "ratings = ratings.map(lambda x:{\n",
        "    \"movie_title\":x[\"movie_title\"],\n",
        "    \"user_id\":x[\"user_id\"],\n",
        "   \n",
        "})\n",
        "movies = movies.map(lambda x:x[\"movie_title\"])\n",
        "                              "
      ],
      "metadata": {
        "id": "sxixD1hl1E9B"
      },
      "execution_count": 62,
      "outputs": []
    },
    {
      "cell_type": "code",
      "source": [
        "for x in ratings.take(5).as_numpy_iterator():\n",
        "  pprint.pprint(x)"
      ],
      "metadata": {
        "colab": {
          "base_uri": "https://localhost:8080/"
        },
        "id": "eGPl5bXYGGKy",
        "outputId": "74949ddb-8f53-4a0f-d1a9-293e5e74c749"
      },
      "execution_count": 63,
      "outputs": [
        {
          "output_type": "stream",
          "name": "stdout",
          "text": [
            "{'movie_title': b\"One Flew Over the Cuckoo's Nest (1975)\", 'user_id': b'138'}\n",
            "{'movie_title': b'Strictly Ballroom (1992)', 'user_id': b'92'}\n",
            "{'movie_title': b'Very Brady Sequel, A (1996)', 'user_id': b'301'}\n",
            "{'movie_title': b'Pulp Fiction (1994)', 'user_id': b'60'}\n",
            "{'movie_title': b'Scream 2 (1997)', 'user_id': b'197'}\n"
          ]
        }
      ]
    },
    {
      "cell_type": "code",
      "source": [
        "for x in movies.take(5).as_numpy_iterator():\n",
        "  pprint.pprint(x)"
      ],
      "metadata": {
        "colab": {
          "base_uri": "https://localhost:8080/"
        },
        "id": "8yYJfVR4KEfw",
        "outputId": "f430c809-4ad5-4691-f768-807613888411"
      },
      "execution_count": 64,
      "outputs": [
        {
          "output_type": "stream",
          "name": "stdout",
          "text": [
            "b'You So Crazy (1994)'\n",
            "b'Love Is All There Is (1996)'\n",
            "b'Fly Away Home (1996)'\n",
            "b'In the Line of Duty 2 (1987)'\n",
            "b'Niagara, Niagara (1997)'\n"
          ]
        }
      ]
    },
    {
      "cell_type": "code",
      "source": [
        "# building vocabularies to convert data into integer indicies for embedding\n",
        "\n",
        "user_ids_vocabulary= tf.keras.layers.StringLookup()\n",
        "user_ids_vocabulary.adapt(ratings.map(lambda x: x[\"user_id\"]))\n",
        "movie_titles_vocabulary = tf.keras.layers.StringLookup()\n",
        "movie_titles_vocabulary.adapt(movies)"
      ],
      "metadata": {
        "id": "6McuP_hNrJio"
      },
      "execution_count": 66,
      "outputs": []
    },
    {
      "cell_type": "code",
      "source": [
        "class TwoTowerMovielensModel(tfr.Model):\n",
        "  ### prediction model\n",
        "  def __init__(self, user_model: tf.keras.Model,movie_model: tf.keras.Model,task:tfr.tasks.Retrieval):\n",
        "    super().__init__()\n",
        "  \n",
        "   # setting up movie and user model\n",
        "    self.user_model = user_model\n",
        "    self.movie_model = movie_model\n",
        "     \n",
        "    ## determining which task the model is going to perform..retrieval,ranking or post ranking\n",
        "    self.task = task\n",
        "\n",
        "  def compute_loss(self,features,training = False) -> tf.Tensor:\n",
        "    user_embeddings = self.user_model(features['user_id'])\n",
        "    movies_embeddings = self.movie_model(features[\"movie_title\"])\n",
        "    return self.task(user_embeddings,movies_embeddings)\n"
      ],
      "metadata": {
        "id": "TPFGbKDh16bx"
      },
      "execution_count": 67,
      "outputs": []
    },
    {
      "cell_type": "code",
      "source": [
        "user_model = tf.keras.Sequential([\n",
        "    user_ids_vocabulary,\n",
        "    tf.keras.layers.Embedding(user_ids_vocabulary.vocab_size(),64)\n",
        "])\n",
        "movies_model = tf.keras.Sequential([\n",
        "    movie_titles_vocabulary,\n",
        "    tf.keras.layers.Embedding(movie_titles_vocabulary.vocab_size(),64)\n",
        "])\n",
        "task = tfr.tasks.Retrieval(metrics=tfr.metrics.FactorizedTopK(movies.batch(128).map(movies_model)))"
      ],
      "metadata": {
        "colab": {
          "base_uri": "https://localhost:8080/"
        },
        "id": "T05a4FjGvD3D",
        "outputId": "10942166-addb-40fa-86b2-8bfbb2863b7a"
      },
      "execution_count": 69,
      "outputs": [
        {
          "output_type": "stream",
          "name": "stderr",
          "text": [
            "WARNING:tensorflow:vocab_size is deprecated, please use vocabulary_size.\n",
            "WARNING:tensorflow:vocab_size is deprecated, please use vocabulary_size.\n"
          ]
        }
      ]
    },
    {
      "cell_type": "code",
      "source": [
        "model = TwoTowerMovielensModel(user_model,movies_model,task)\n",
        "model.compile(optimizer = tf.keras.optimizers.Adagrad(0.5))"
      ],
      "metadata": {
        "id": "ab5xTHCe8ZHk"
      },
      "execution_count": 75,
      "outputs": []
    },
    {
      "cell_type": "code",
      "source": [
        "model.fit(ratings.batch(4096),epochs=10)"
      ],
      "metadata": {
        "colab": {
          "base_uri": "https://localhost:8080/"
        },
        "id": "o0Maf1vb361q",
        "outputId": "cac628ff-dea0-4c5c-ac29-2987ac4f69f8"
      },
      "execution_count": 76,
      "outputs": [
        {
          "output_type": "stream",
          "name": "stdout",
          "text": [
            "Epoch 1/10\n",
            "25/25 [==============================] - 30s 1s/step - factorized_top_k/top_1_categorical_accuracy: 1.9000e-04 - factorized_top_k/top_5_categorical_accuracy: 0.0026 - factorized_top_k/top_10_categorical_accuracy: 0.0076 - factorized_top_k/top_50_categorical_accuracy: 0.0571 - factorized_top_k/top_100_categorical_accuracy: 0.1267 - loss: 33162.6486 - regularization_loss: 0.0000e+00 - total_loss: 33162.6486\n",
            "Epoch 2/10\n",
            "25/25 [==============================] - 29s 1s/step - factorized_top_k/top_1_categorical_accuracy: 2.1000e-04 - factorized_top_k/top_5_categorical_accuracy: 0.0057 - factorized_top_k/top_10_categorical_accuracy: 0.0169 - factorized_top_k/top_50_categorical_accuracy: 0.1140 - factorized_top_k/top_100_categorical_accuracy: 0.2258 - loss: 30838.6073 - regularization_loss: 0.0000e+00 - total_loss: 30838.6073\n",
            "Epoch 3/10\n",
            "25/25 [==============================] - 30s 1s/step - factorized_top_k/top_1_categorical_accuracy: 6.8000e-04 - factorized_top_k/top_5_categorical_accuracy: 0.0090 - factorized_top_k/top_10_categorical_accuracy: 0.0237 - factorized_top_k/top_50_categorical_accuracy: 0.1511 - factorized_top_k/top_100_categorical_accuracy: 0.2792 - loss: 30329.3063 - regularization_loss: 0.0000e+00 - total_loss: 30329.3063\n",
            "Epoch 4/10\n",
            "25/25 [==============================] - 29s 1s/step - factorized_top_k/top_1_categorical_accuracy: 8.9000e-04 - factorized_top_k/top_5_categorical_accuracy: 0.0108 - factorized_top_k/top_10_categorical_accuracy: 0.0297 - factorized_top_k/top_50_categorical_accuracy: 0.1818 - factorized_top_k/top_100_categorical_accuracy: 0.3227 - loss: 30004.7607 - regularization_loss: 0.0000e+00 - total_loss: 30004.7607\n",
            "Epoch 5/10\n",
            "25/25 [==============================] - 29s 1s/step - factorized_top_k/top_1_categorical_accuracy: 6.6000e-04 - factorized_top_k/top_5_categorical_accuracy: 0.0114 - factorized_top_k/top_10_categorical_accuracy: 0.0325 - factorized_top_k/top_50_categorical_accuracy: 0.2023 - factorized_top_k/top_100_categorical_accuracy: 0.3532 - loss: 29763.0698 - regularization_loss: 0.0000e+00 - total_loss: 29763.0698\n",
            "Epoch 6/10\n",
            "25/25 [==============================] - 30s 1s/step - factorized_top_k/top_1_categorical_accuracy: 7.8000e-04 - factorized_top_k/top_5_categorical_accuracy: 0.0122 - factorized_top_k/top_10_categorical_accuracy: 0.0345 - factorized_top_k/top_50_categorical_accuracy: 0.2188 - factorized_top_k/top_100_categorical_accuracy: 0.3755 - loss: 29569.3213 - regularization_loss: 0.0000e+00 - total_loss: 29569.3213\n",
            "Epoch 7/10\n",
            "25/25 [==============================] - 29s 1s/step - factorized_top_k/top_1_categorical_accuracy: 7.1000e-04 - factorized_top_k/top_5_categorical_accuracy: 0.0124 - factorized_top_k/top_10_categorical_accuracy: 0.0352 - factorized_top_k/top_50_categorical_accuracy: 0.2311 - factorized_top_k/top_100_categorical_accuracy: 0.3936 - loss: 29415.6975 - regularization_loss: 0.0000e+00 - total_loss: 29415.6975\n",
            "Epoch 8/10\n",
            "25/25 [==============================] - 29s 1s/step - factorized_top_k/top_1_categorical_accuracy: 7.2000e-04 - factorized_top_k/top_5_categorical_accuracy: 0.0126 - factorized_top_k/top_10_categorical_accuracy: 0.0360 - factorized_top_k/top_50_categorical_accuracy: 0.2397 - factorized_top_k/top_100_categorical_accuracy: 0.4068 - loss: 29282.9755 - regularization_loss: 0.0000e+00 - total_loss: 29282.9755\n",
            "Epoch 9/10\n",
            "25/25 [==============================] - 30s 1s/step - factorized_top_k/top_1_categorical_accuracy: 9.3000e-04 - factorized_top_k/top_5_categorical_accuracy: 0.0128 - factorized_top_k/top_10_categorical_accuracy: 0.0371 - factorized_top_k/top_50_categorical_accuracy: 0.2488 - factorized_top_k/top_100_categorical_accuracy: 0.4191 - loss: 29173.1052 - regularization_loss: 0.0000e+00 - total_loss: 29173.1052\n",
            "Epoch 10/10\n",
            "25/25 [==============================] - 29s 1s/step - factorized_top_k/top_1_categorical_accuracy: 6.4000e-04 - factorized_top_k/top_5_categorical_accuracy: 0.0134 - factorized_top_k/top_10_categorical_accuracy: 0.0378 - factorized_top_k/top_50_categorical_accuracy: 0.2552 - factorized_top_k/top_100_categorical_accuracy: 0.4277 - loss: 29074.9316 - regularization_loss: 0.0000e+00 - total_loss: 29074.9316\n"
          ]
        },
        {
          "output_type": "execute_result",
          "data": {
            "text/plain": [
              "<keras.callbacks.History at 0x7f987ae8c610>"
            ]
          },
          "metadata": {},
          "execution_count": 76
        }
      ]
    },
    {
      "cell_type": "code",
      "source": [
        "### predictions using brute force to search to set up retrival using the trained representation"
      ],
      "metadata": {
        "id": "J8oXAf4-N-VC"
      },
      "execution_count": null,
      "outputs": []
    },
    {
      "cell_type": "code",
      "source": [
        "index =tfr.layers.factorized_top_k.BruteForce(model.user_model)\n",
        "index.index_from_dataset(movies.batch(100).map(lambda title:(title, model.movie_model(title))))"
      ],
      "metadata": {
        "colab": {
          "base_uri": "https://localhost:8080/"
        },
        "id": "qEkR1qpXzaSR",
        "outputId": "386d7a47-79af-45fc-f9eb-afe1ffcd3833"
      },
      "execution_count": 77,
      "outputs": [
        {
          "output_type": "execute_result",
          "data": {
            "text/plain": [
              "<tensorflow_recommenders.layers.factorized_top_k.BruteForce at 0x7f987a024a10>"
            ]
          },
          "metadata": {},
          "execution_count": 77
        }
      ]
    },
    {
      "cell_type": "code",
      "source": [
        "import numpy as np"
      ],
      "metadata": {
        "id": "L9ZZ8P880oGS"
      },
      "execution_count": 83,
      "outputs": []
    },
    {
      "cell_type": "code",
      "source": [
        "for i in range(0,50):\n",
        "  _, titles = index(np.array([str(i)]))\n",
        "  print(f'top 3 recommendations for user{str(i)}:{titles[0,:3]}')"
      ],
      "metadata": {
        "colab": {
          "base_uri": "https://localhost:8080/"
        },
        "id": "agoDTVhZ0JTc",
        "outputId": "2d2f1c0e-8059-4d13-95ff-c3d47a6878dc"
      },
      "execution_count": 86,
      "outputs": [
        {
          "output_type": "stream",
          "name": "stdout",
          "text": [
            "top 3 recommendations for user0:[b'That Darn Cat! (1997)' b'That Darn Cat! (1997)' b'Heavyweights (1994)']\n",
            "top 3 recommendations for user1:[b'Brother Minister: The Assassination of Malcolm X (1994)'\n",
            " b'Doom Generation, The (1995)' b'Turbo: A Power Rangers Movie (1997)']\n",
            "top 3 recommendations for user2:[b'3 Ninjas: High Noon At Mega Mountain (1998)' b'Promesse, La (1996)'\n",
            " b'Once Upon a Time... When We Were Colored (1995)']\n",
            "top 3 recommendations for user3:[b'Critical Care (1997)' b'Spice World (1997)' b'Deep Rising (1998)']\n",
            "top 3 recommendations for user4:[b'Assignment, The (1997)' b'Wonderland (1997)'\n",
            " b'Blues Brothers 2000 (1998)']\n",
            "top 3 recommendations for user5:[b'Amityville Curse, The (1990)' b'Amityville II: The Possession (1982)'\n",
            " b\"Amityville 1992: It's About Time (1992)\"]\n",
            "top 3 recommendations for user6:[b'Ponette (1996)' b'His Girl Friday (1940)' b'Daytrippers, The (1996)']\n",
            "top 3 recommendations for user7:[b'Police Story 4: Project S (Chao ji ji hua) (1993)'\n",
            " b\"Daniel Defoe's Robinson Crusoe (1996)\" b'Fire on the Mountain (1996)']\n",
            "top 3 recommendations for user8:[b'Leave It to Beaver (1997)' b'Free Willy 3: The Rescue (1997)'\n",
            " b'Playing God (1997)']\n",
            "top 3 recommendations for user9:[b'Shanghai Triad (Yao a yao yao dao waipo qiao) (1995)'\n",
            " b'39 Steps, The (1935)' b'Evil Dead II (1987)']\n",
            "top 3 recommendations for user10:[b'Wonderful, Horrible Life of Leni Riefenstahl, The (1993)'\n",
            " b'Bad Moon (1996)' b'Blue Angel, The (Blaue Engel, Der) (1930)']\n",
            "top 3 recommendations for user11:[b'Fluke (1995)' b'Go Fish (1994)' b'Mary Reilly (1996)']\n",
            "top 3 recommendations for user12:[b'Man Without a Face, The (1993)' b'Philadelphia (1993)'\n",
            " b'Platoon (1986)']\n",
            "top 3 recommendations for user13:[b'Paris Was a Woman (1995)' b'Power 98 (1995)' b'Beyond Bedlam (1993)']\n",
            "top 3 recommendations for user14:[b'Two Bits (1995)' b'Dead Man (1995)' b'Raise the Red Lantern (1991)']\n",
            "top 3 recommendations for user15:[b'Paradise Road (1997)'\n",
            " b'Flower of My Secret, The (Flor de mi secreto, La) (1995)'\n",
            " b'Cry, the Beloved Country (1995)']\n",
            "top 3 recommendations for user16:[b'Andre (1994)' b'Bad Boys (1995)'\n",
            " b'Big Blue, The (Grand bleu, Le) (1988)']\n",
            "top 3 recommendations for user17:[b'Spitfire Grill, The (1996)' b'Breaking the Waves (1996)'\n",
            " b'Big Night (1996)']\n",
            "top 3 recommendations for user18:[b'Pushing Hands (1992)' b'Grateful Dead (1995)'\n",
            " b'Month by the Lake, A (1995)']\n",
            "top 3 recommendations for user19:[b'American President, The (1995)'\n",
            " b'Adventures of Priscilla, Queen of the Desert, The (1994)'\n",
            " b'M*A*S*H (1970)']\n",
            "top 3 recommendations for user20:[b'Island of Dr. Moreau, The (1996)' b'Space Jam (1996)'\n",
            " b'Miracle on 34th Street (1994)']\n",
            "top 3 recommendations for user21:[b'Amityville: A New Generation (1993)' b'Amityville: Dollhouse (1996)'\n",
            " b'Underworld (1997)']\n",
            "top 3 recommendations for user22:[b'Baby-Sitters Club, The (1995)' b'Heavyweights (1994)'\n",
            " b'Stupids, The (1996)']\n",
            "top 3 recommendations for user23:[b'Until the End of the World (Bis ans Ende der Welt) (1991)'\n",
            " b'Wings of Desire (1987)' b'Orlando (1993)']\n",
            "top 3 recommendations for user24:[b'Jeffrey (1995)' b'Billy Madison (1995)' b'Waiting for Guffman (1996)']\n",
            "top 3 recommendations for user25:[b'Inspector General, The (1949)' b'Pinocchio (1940)'\n",
            " b'Grand Day Out, A (1992)']\n",
            "top 3 recommendations for user26:[b'Anaconda (1997)' b'Shiloh (1997)' b'Trigger Effect, The (1996)']\n",
            "top 3 recommendations for user27:[b'Trees Lounge (1996)' b\"Smilla's Sense of Snow (1997)\"\n",
            " b'Unforgettable (1996)']\n",
            "top 3 recommendations for user28:[b\"Wes Craven's New Nightmare (1994)\" b'In the Mouth of Madness (1995)'\n",
            " b\"April Fool's Day (1986)\"]\n",
            "top 3 recommendations for user29:[b'Grand Day Out, A (1992)' b'Tie Me Up! Tie Me Down! (1990)'\n",
            " b'Die xue shuang xiong (Killer, The) (1989)']\n",
            "top 3 recommendations for user30:[b'Flubber (1997)' b'Mouse Hunt (1997)' b'Anaconda (1997)']\n",
            "top 3 recommendations for user31:[b'Thirty-Two Short Films About Glenn Gould (1993)'\n",
            " b'Die xue shuang xiong (Killer, The) (1989)' b'Thin Man, The (1934)']\n",
            "top 3 recommendations for user32:[b'Fierce Creatures (1997)' b\"Fathers' Day (1997)\" b'Private Parts (1997)']\n",
            "top 3 recommendations for user33:[b'Desperate Measures (1998)' b'Desperate Measures (1998)'\n",
            " b'Peacemaker, The (1997)']\n",
            "top 3 recommendations for user34:[b'Mrs. Dalloway (1997)' b'Anna Karenina (1997)' b'Keys to Tulsa (1997)']\n",
            "top 3 recommendations for user35:[b'Kull the Conqueror (1997)' b'Kull the Conqueror (1997)'\n",
            " b'Jungle2Jungle (1997)']\n",
            "top 3 recommendations for user36:[b'Lay of the Land, The (1997)' b'Phantoms (1998)' b'Mad City (1997)']\n",
            "top 3 recommendations for user37:[b'Shooter, The (1995)' b'Money Train (1995)' b'Demolition Man (1993)']\n",
            "top 3 recommendations for user38:[b'Free Willy 2: The Adventure Home (1995)'\n",
            " b'Children of the Corn: The Gathering (1996)' b'Lassie (1994)']\n",
            "top 3 recommendations for user39:[b'Spice World (1997)' b'Deconstructing Harry (1997)' b'Senseless (1998)']\n",
            "top 3 recommendations for user40:[b'Sweet Hereafter, The (1997)' b'House of Yes, The (1997)'\n",
            " b'Deconstructing Harry (1997)']\n",
            "top 3 recommendations for user41:[b'My Favorite Year (1982)' b'Hamlet (1996)' b'Local Hero (1983)']\n",
            "top 3 recommendations for user42:[b'Rent-a-Kid (1995)' b'House Arrest (1996)' b'Just Cause (1995)']\n",
            "top 3 recommendations for user43:[b'Cronos (1992)' b\"Fathers' Day (1997)\" b'Only You (1994)']\n",
            "top 3 recommendations for user44:[b'War, The (1994)' b'Sword in the Stone, The (1963)'\n",
            " b'Aristocats, The (1970)']\n",
            "top 3 recommendations for user45:[b'Blue in the Face (1995)' b'If Lucy Fell (1996)'\n",
            " b'Muppet Treasure Island (1996)']\n",
            "top 3 recommendations for user46:[b'Four Days in September (1997)' b'Mrs. Dalloway (1997)'\n",
            " b'Anastasia (1997)']\n",
            "top 3 recommendations for user47:[b'Fast, Cheap & Out of Control (1997)' b'Career Girls (1997)'\n",
            " b'Ice Storm, The (1997)']\n",
            "top 3 recommendations for user48:[b'Deceiver (1997)' b'Deceiver (1997)' b'Kull the Conqueror (1997)']\n",
            "top 3 recommendations for user49:[b'Celestial Clockwork (1994)' b'Man of No Importance, A (1994)'\n",
            " b'Female Perversions (1996)']\n"
          ]
        }
      ]
    },
    {
      "cell_type": "code",
      "source": [],
      "metadata": {
        "id": "08y7b4ex0qN6"
      },
      "execution_count": null,
      "outputs": []
    }
  ]
}