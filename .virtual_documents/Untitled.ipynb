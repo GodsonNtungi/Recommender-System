import tensorflow as tf
import tensorflow_datasets as tfds
import tensorflow_recommenders as tfrs


! pip install tensorflow_datasets


get_ipython().getoutput("conda install  tensorflow_datasets")

